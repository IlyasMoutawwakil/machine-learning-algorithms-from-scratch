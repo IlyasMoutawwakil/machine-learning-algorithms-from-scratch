{
  "nbformat": 4,
  "nbformat_minor": 0,
  "metadata": {
    "colab": {
      "name": "model-concept.ipynb",
      "provenance": [],
      "toc_visible": true,
      "authorship_tag": "ABX9TyN435rd288gYf7M1PpoO6wn",
      "include_colab_link": true
    },
    "kernelspec": {
      "name": "python3",
      "display_name": "Python 3"
    },
    "language_info": {
      "name": "python"
    }
  },
  "cells": [
    {
      "cell_type": "markdown",
      "metadata": {
        "id": "view-in-github",
        "colab_type": "text"
      },
      "source": [
        "<a href=\"https://colab.research.google.com/github/IlyasMoutawwakil/machine-learning-algorithms-from-scratch/blob/main/bayesian-linear-regression/model-concept.ipynb\" target=\"_parent\"><img src=\"https://colab.research.google.com/assets/colab-badge.svg\" alt=\"Open In Colab\"/></a>"
      ]
    },
    {
      "cell_type": "markdown",
      "source": [
        "# Concept"
      ],
      "metadata": {
        "id": "cthj4une6cLc"
      }
    },
    {
      "cell_type": "markdown",
      "source": [
        "`Markdon Commands`\n",
        "$$\n",
        "\\newcommand{\\sumN}{\\sum_{n = 1}^N}\n",
        "\\newcommand{\\sumn}{\\sum_n}\n",
        "\\newcommand{\\prodN}{\\prod_{n = 1}^N}\n",
        "\\newcommand{\\by}{\\mathbf{y}} \\newcommand{\\bX}{\\mathbf{X}}\n",
        "\\newcommand{\\bx}{\\mathbf{x}}\n",
        "\\newcommand{\\bbeta}{\\boldsymbol{\\beta}}\n",
        "\\newcommand{\\btheta}{\\boldsymbol{\\theta}}\n",
        "\\newcommand{\\bbetahat}{\\boldsymbol{\\hat{\\beta}}}\n",
        "\\newcommand{\\bthetahat}{\\boldsymbol{\\hat{\\theta}}}\n",
        "\\newcommand{\\bSigma}{\\boldsymbol{\\Sigma}}\n",
        "\\newcommand{\\bT}{\\mathbf{T}}\n",
        "\\newcommand{\\dadb}[2]{\\frac{\\partial #1}{\\partial #2}}\n",
        "\\newcommand{\\iid}{\\overset{\\small{\\text{i.i.d.}}}{\\sim}}\n",
        "$$"
      ],
      "metadata": {
        "id": "tTF3myWg6a9H"
      }
    },
    {
      "cell_type": "markdown",
      "source": [
        "In the Bayesian approach to statistical inference, we treat our parameters as random variables and assign them a prior distribution. This forces our estimates to reconcile our existing beliefs about these parameters with new information given by the data. This approach can be applied to linear regression by assigning the regression coefficients a prior distribution. \n",
        "\n",
        "We also may wish to perform Bayesian regression not because of a prior belief about the coefficients but in order to minimize model complexity. By assigning the parameters a prior distribution with mean 0, we force the posterior estimates to be closer to 0 than they would otherwise. This is a form of regularization similar to the Ridge and Lasso methods discussed in the `regularized regression`. \n",
        "\n",
        "To demonstrate Bayesian regression, we'll follow three typical steps to Bayesian analysis: writing the likelihood, writing the prior density, and using Bayes' Rule to get the posterior density. In the `results` below, we use the posterior density to calculate the maximum-a-posteriori (MAP) the equivalent of calculating the $\\hat{\\bbeta}$ estimates in ordinary linear regression. "
      ],
      "metadata": {
        "id": "KYOaQPvS7ajT"
      }
    },
    {
      "cell_type": "markdown",
      "source": [
        "## 1. The Likelihood\n",
        "\n",
        "As in the typical regression set-up, let's assume \n",
        "\n",
        "\n",
        "$$\n",
        "Y_n \\iid \\mathcal{N}\\left(\\bbeta^\\top \\bx_n , \\sigma^2\\right).\n",
        "$$\n",
        "\n",
        "\n",
        "We can write the collection of observations jointly as  \n",
        "\n",
        "\n",
        "$$\n",
        "\\begin{align*}\n",
        "\\by &\\sim \\mathcal{N}\\left( \\bX\\bbeta, \\bSigma\\right),\n",
        "\\end{align*}\n",
        "$$\n",
        "\n",
        "\n",
        "where $\\by \\in \\mathbb{R}^N$ and $\\bSigma = \\sigma^2 I_N \\in \\mathbb{R}^{N \\times N}$ for some *known* scalar $\\sigma^2$. Note that $\\by$ is a vector of random variablesâ€”it is not capitalized in order to distinguish it from a matrix.\n",
        "\n",
        "**Note**\n",
        "\n",
        "---------------------------------------------------------\n",
        "See [this lecture](https://www.statlect.com/fundamentals-of-statistics/Bayesian-regression) for an example of Bayesian regression without the assumption of known variance.\n",
        "\n",
        "---------------------------------------------------------\n",
        "\n",
        "We can then get our likelihood and log-likelihood using the Multivariate Normal. \n",
        "\n",
        "$$\n",
        "\\begin{align*}\n",
        "L(\\bbeta; \\bX, \\by) \n",
        "&= \n",
        "\\frac{1}{\\sqrt{(2\\pi)^N|\\bSigma|}}\\exp\\left(-\\frac{1}{2}(\\by - \\bX\\bbeta)^\\top\\bSigma^{-1}(\\by - \\bX\\bbeta) \\right) \n",
        "\\\\\n",
        "&\\propto \\exp\\left(-\\frac{1}{2}(\\by - \\bX\\bbeta)^\\top\\bSigma^{-1}(\\by - \\bX\\bbeta) \\right) \n",
        "\\\\\n",
        "\\log L(\\bbeta; \\bX, \\by) &= -\\frac{1}{2}(\\by - \\bX\\bbeta)^\\top\\bSigma^{-1}(\\by - \\bX\\bbeta).\n",
        "\\end{align*}\n",
        "$$"
      ],
      "metadata": {
        "id": "71lWH_S37SrA"
      }
    },
    {
      "cell_type": "markdown",
      "source": [
        "## 2. The Prior\n",
        "\n",
        "Now, let's assign $\\bbeta$ a prior distribution. We typically assume \n",
        "\n",
        "$$\n",
        "\\bbeta \\sim \\mathcal{N}(\\mathbf{0}, \\bT),\n",
        "$$\n",
        "\n",
        "\n",
        "where $\\bbeta \\in \\mathbb{R}^D$ and $\\bT = \\tau I_D \\in \\mathbb{R}^{D \\times D}$ for some scalar $\\tau$. We choose $\\tau$ (and therefore $\\bT$) ourselves, with a greater $\\tau$ giving less weight to the prior. \n",
        "\n",
        "\n",
        "\n",
        "The prior density is given by\n",
        "\n",
        "\n",
        "$$\n",
        "\\begin{align*}\n",
        "p(\\bbeta) &= \n",
        "\\frac{1}{\\sqrt{(2\\pi)^D|\\bT|}}\\exp\\left(-\\frac{1}{2}\\bbeta^\\top\\bT^{-1}\\bbeta \\right) \n",
        "\\\\\n",
        "&\\propto \\exp\\left(-\\frac{1}{2}\\bbeta^\\top\\bT^{-1}\\bbeta \\right)\n",
        "\\\\\n",
        "\\log p(\\bbeta) &= -\\frac{1}{2}\\bbeta^\\top \\bT^{-1}\\bbeta.\n",
        "\\end{align*}\n",
        "$$"
      ],
      "metadata": {
        "id": "6WJwn3BJ7gQj"
      }
    },
    {
      "cell_type": "markdown",
      "source": [
        "## 3. The Posterior\n",
        "\n",
        "We are then interested in a posterior density of $\\bbeta$ given the data, $\\bX$ and $\\by$.\n",
        "\n",
        "Bayes' rule tells us that the posterior density of the coefficients is proportional to the likelihood of the data times the prior density of the coefficients. Using the two previous results, we have\n",
        "\n",
        "\n",
        "$$\n",
        "\\begin{align*}\n",
        "p(\\bbeta|\\bX, \\by) &\\propto L(\\bbeta; \\bX, \\by) p(\\bbeta) \n",
        "\\\\\n",
        "\\log p(\\bbeta|\\bX, \\by) &= \\log L(\\bbeta; \\bX, \\by) + \\log p(\\bbeta) + k\n",
        "\\\\\n",
        "&=  -\\frac{1}{2}(\\by - \\bX\\bbeta)^\\top\\bSigma^{-1}(\\by - \\bX\\bbeta) - \\frac{1}{2}\\bbeta^\\top \\bT^{-1}\\bbeta + k \n",
        "\\\\\n",
        "&= -\\frac{1}{2\\sigma^2}(\\by - \\bX\\bbeta)^\\top(\\by - \\bX\\bbeta) - \\frac{1}{2\\tau}\\bbeta^\\top \\bbeta + k \n",
        "\\end{align*}\n",
        "$$\n",
        "\n",
        "\n",
        "where $k$ is some constant that we don't care about."
      ],
      "metadata": {
        "id": "AiEz9kdVLuNB"
      }
    },
    {
      "cell_type": "markdown",
      "source": [
        "## Results"
      ],
      "metadata": {
        "id": "lwSnNdeqc694"
      }
    },
    {
      "cell_type": "markdown",
      "source": [
        "### Intuition\n",
        "\n",
        "Often in the Bayesian setting it is infeasible to obtain the entire posterior distribution. Instead, one typically looks at the maximum-a-posteriori (MAP), the value of the parameters that maximize the posterior density. In our case, the MAP is the $\\bbetahat$ that maximizes \n",
        "\n",
        "\n",
        "$$\n",
        "\\begin{align*}\n",
        "\\log p(\\bbetahat|\\bX, \\by) &= -\\frac{1}{2\\sigma^2}(\\by - \\bX\\bbetahat)^\\top(\\by - \\bX\\bbetahat) - \\frac{1}{2\\tau}\\bbetahat^\\top \\bbetahat.\n",
        "\\end{align*}\n",
        "$$\n",
        "\n",
        "\n",
        "This is equivalent to finding the $\\bbetahat$ that minimizes the following loss function, where $\\lambda = 1/\\tau$. \n",
        "\n",
        "\n",
        "$$\n",
        "\\begin{align}\n",
        "L(\\bbetahat) &= \\frac{1}{2}(\\by - \\bX\\bbetahat)^\\top(\\by - \\bX\\bbetahat) + \\frac{\\lambda}{2}\\bbetahat^\\top \\bbetahat \n",
        "\\\\\n",
        "&= \\frac{1}{2}(\\by - \\bX\\bbetahat)^\\top(\\by - \\bX\\bbetahat) + \\frac{\\lambda}{2} \\sum_{d = 0}^D\\hat{\\beta}_d.\n",
        "\\end{align}\n",
        "$$\n",
        "\n",
        "\n",
        "Notice that this is extremely close to the Ridge loss function discussed in the `regularized regression`, it is not quite equal to the Ridge loss function since it also penalizes the magnitude of the intercept, though this difference could be eliminated by changing the prior distribution of the intercept.\n",
        "\n",
        "\n",
        "\n",
        "This shows that Bayesian regression with a mean-zero Normal prior distribution is essentially equivalent to Ridge regression. Decreasing $\\tau$, just like increasing $\\lambda$, increases the amount of regularization. "
      ],
      "metadata": {
        "id": "VE0cDB3o6Sm_"
      }
    },
    {
      "cell_type": "markdown",
      "source": [
        "### Full Results\n",
        "\n",
        "Now let's actually derive the MAP by calculating the gradient of the log posterior density. \n",
        "\n",
        "\n",
        "\n",
        "**Math Note**\n",
        "\n",
        "-----------------------------------------------------------\n",
        "For a symmetric matrix $\\mathbf{W}$, \n",
        "\n",
        "$$\n",
        "\\frac{\\partial}{\\partial \\mathbf{s}}\\left(\\mathbf{q} - \\mathbf{A}\\mathbf{s} \\right)^\\top \\mathbf{W}\\left(\\mathbf{q} - \\mathbf{A}\\mathbf{s}\\right) = -2\\mathbf{A}^\\top \\mathbf{W}\\left(\\mathbf{q} - \\mathbf{A}\\mathbf{s}\\right)\n",
        "$$\n",
        "\n",
        "This implies that\n",
        "\n",
        "$$\n",
        "\\frac{\\partial}{\\partial \\mathbf{s}}\\mathbf{s}^\\top \\mathbf{W}\\mathbf{s} = \n",
        "\\frac{\\partial}{\\partial \\mathbf{s}} (\\mathbf{0} - I\\mathbf{s})^\\top \\mathbf{W} (\\mathbf{0} - I\\mathbf{s})= \n",
        "2\\mathbf{W}\\mathbf{s}.\n",
        "$$\n",
        "\n",
        "------------------------------------------------------------\n",
        "\n",
        "Using the *Math Note* above, we have\n",
        "\n",
        "$$\n",
        "\\begin{align*}\n",
        "\\log p(\\bbetahat|\\bX, \\by) &=  -\\frac{1}{2}(\\by - \\bX\\bbeta)^\\top\\bSigma^{-1}(\\by - \\bX\\bbeta) - \\frac{1}{2}\\bbeta^\\top \\bT^{-1}\\bbeta \\\\\n",
        "\\dadb{}{\\bbeta} \\log p(\\bbeta|\\bX, \\by) &= \\bX^\\top \\bSigma^{-1}(\\by - \\bX \\bbeta) - \\bT^{-1}\\bbeta.\n",
        "\\end{align*}\n",
        "$$\n",
        "\n",
        "\n",
        "We calculate the MAP by setting this gradient equal to 0:\n",
        "\n",
        "\n",
        "$$\n",
        "\\begin{align*}\n",
        "\\bbetahat &= \\left(\\bX^\\top\\bSigma^{-1} \\bX + \\bT^{-1}\\right)^{-1}\\bX^\\top\\bSigma^{-1}\\by \\\\\n",
        "&= \\left(\\frac{1}{\\sigma^2}\\bX^\\top\\bX + \\frac{1}{\\tau} I\\right)^{-1}\\frac{1}{\\sigma^2}\\bX^\\top\\by.\n",
        "\\end{align*}\n",
        "$$"
      ],
      "metadata": {
        "id": "aIvwPefdNAN5"
      }
    }
  ]
}