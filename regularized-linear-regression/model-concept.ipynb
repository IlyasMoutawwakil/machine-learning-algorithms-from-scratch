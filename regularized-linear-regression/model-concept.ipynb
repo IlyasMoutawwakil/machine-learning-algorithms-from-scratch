{
  "nbformat": 4,
  "nbformat_minor": 0,
  "metadata": {
    "colab": {
      "name": "model-concept.ipynb",
      "provenance": [],
      "collapsed_sections": [],
      "toc_visible": true,
      "authorship_tag": "ABX9TyNPjVvGTQ9GPF7coRDMpwAv",
      "include_colab_link": true
    },
    "kernelspec": {
      "name": "python3",
      "display_name": "Python 3"
    },
    "language_info": {
      "name": "python"
    }
  },
  "cells": [
    {
      "cell_type": "markdown",
      "metadata": {
        "id": "view-in-github",
        "colab_type": "text"
      },
      "source": [
        "<a href=\"https://colab.research.google.com/github/IlyasMoutawwakil/machine-learning-algorithms-from-scratch/blob/main/regularized-linear-regression/model-concept.ipynb\" target=\"_parent\"><img src=\"https://colab.research.google.com/assets/colab-badge.svg\" alt=\"Open In Colab\"/></a>"
      ]
    },
    {
      "cell_type": "markdown",
      "source": [
        "# Concept"
      ],
      "metadata": {
        "id": "QERTFkvQhYYs"
      }
    },
    {
      "cell_type": "markdown",
      "source": [
        "`Markdown Commands`\n",
        "$$\n",
        "\\newcommand{\\sumN}{\\sum_{n = 1}^N}\n",
        "\\newcommand{\\sumn}{\\sum_n}\n",
        "\\newcommand{\\prodN}{\\prod_{n = 1}^N}\n",
        "\\newcommand{\\by}{\\mathbf{y}} \\newcommand{\\bX}{\\mathbf{X}}\n",
        "\\newcommand{\\bx}{\\mathbf{x}}\n",
        "\\newcommand{\\bbeta}{\\boldsymbol{\\beta}}\n",
        "\\newcommand{\\btheta}{\\boldsymbol{\\theta}}\n",
        "\\newcommand{\\bbetahat}{\\boldsymbol{\\hat{\\beta}}}\n",
        "\\newcommand{\\bthetahat}{\\boldsymbol{\\hat{\\theta}}}\n",
        "\\newcommand{\\bSigma}{\\boldsymbol{\\Sigma}}\n",
        "\\newcommand{\\bphi}{\\boldsymbol{\\phi}}\n",
        "\\newcommand{\\bPhi}{\\boldsymbol{\\Phi}}\n",
        "\\newcommand{\\bT}{\\mathbf{T}}\n",
        "\\newcommand{\\dadb}[2]{\\frac{\\partial #1}{\\partial #2}}\n",
        "\\newcommand{\\iid}{\\overset{\\small{\\text{i.i.d.}}}{\\sim}}\n",
        "$$"
      ],
      "metadata": {
        "id": "BlwLfkbRhjJH"
      }
    },
    {
      "cell_type": "markdown",
      "source": [
        "## Overfitting\n",
        "\n",
        "Regression models, especially those fit to high-dimensional data, may be prone to overfitting. One way to ameliorate this issue is by penalizing the magnitude of the $\\bbetahat$ coefficient estimates. This has the effect of shrinking these estimates toward 0, which ideally prevents the model from capturing spurious relationships between weak predictors and the target variable. \n",
        "\n",
        "\n",
        "This section reviews the two most common methods for regularized regression: Ridge and Lasso."
      ],
      "metadata": {
        "id": "RtNdJ21EhrAI"
      }
    },
    {
      "cell_type": "markdown",
      "source": [
        "## Ridge Regression\n",
        "\n",
        "Like ordinary linear regression, Ridge regression estimates the coefficients by minimizing a loss function on the training data. Unlike ordinary linear regression, the loss function for Ridge regression penalizes large values of the $\\bbetahat$ estimates. Specifically, Ridge regression minimizes the sum of the RSS and the L2 norm of $\\bbetahat$:\n",
        "\n",
        "\n",
        "$$\n",
        "\\begin{align*}\n",
        "\\mathcal{L}_\\text{Ridge}(\\bbetahat) &= \\frac{1}{2}\\left(\\by - \\bX\\bbetahat \\right)^\\top\n",
        "\\left(\\by - \\bX\\bbetahat \\right) + \\frac{\\lambda}{2} \\sum_{d = 1}^D\\hat{\\beta}_d ^2.\n",
        "\\end{align*}\n",
        "$$\n",
        "\n",
        "\n",
        "Here, $\\lambda$ is a *tuning parameter* which represents the amount of regularization. A large $\\lambda$ means a greater penalty on the $\\bbetahat$ estimates, meaning more shrinkage of these estimates toward 0. $\\lambda$ is not estimated by the model but rather chosen before fitting, typically through `cross validation`. \n",
        "\n",
        "\n",
        "Note that the Ridge loss function does *not* penalize the magnitude of the intercept estimate, $\\hat{\\beta}_0$. Intuitively, a greater intercept does not suggest overfitting. \n",
        "\n",
        "\n",
        "\n",
        "As in ordinary linear regression, we start estimating $\\bbetahat$ by taking the derivative of the loss function. First note that since $\\hat{\\beta}_0$ is not penalized, \n",
        "\n",
        "\n",
        "$$\n",
        "\\begin{align*}\n",
        "\\frac{\\partial}{\\partial \\bbetahat} \\left( \\frac{\\lambda}{2}\\sum_{d = 1}^D \\hat{\\beta}_d^2\\right) &= \\begin{bmatrix} 0 \\\\ \\lambda \\hat{\\beta}_1 \\\\ ... \\\\ \\lambda \\hat{\\beta}_D \\end{bmatrix} \\\\\n",
        "&= \\lambda I' \\bbetahat,\n",
        "\\end{align*}\n",
        "$$\n",
        "\n",
        "\n",
        "where $I'$ is the identity matrix of size $D+1$ *except* the first element is a 0. Then, adding in the derivative of the RSS discussed in `loss minimization`, we get:\n",
        "\n",
        "\n",
        "$$\n",
        "\\begin{align*}\n",
        "\\dadb{\\mathcal{L}_\\text{Ridge}(\\bbetahat)}{\\bbetahat} &= - \\bX^\\top\\left( \\by - \\bX \\bbetahat \\right) + \\lambda I'\\bbetahat.\n",
        "\\end{align*}\n",
        "$$\n",
        "\n",
        "\n",
        "Setting this equal to 0 and solving for $\\bbetahat$, we get our estimates:\n",
        "\n",
        "\n",
        "$$\n",
        "\\begin{align*}\n",
        "\\bbetahat\\left(\\bX^\\top \\bX + \\lambda I' \\right) &= \\bX^\\top \\by \n",
        "\\\\\n",
        "\\bbetahat &= \\left(\\bX^\\top \\bX + \\lambda I' \\right)^{-1} \\bX^\\top \\by,\n",
        "\\end{align*}\n",
        "$$"
      ],
      "metadata": {
        "id": "QCz08-Beh02q"
      }
    },
    {
      "cell_type": "markdown",
      "source": [
        "## Lasso Regression\n",
        "\n",
        "Lasso regression differs from Ridge regression in that its loss function uses the L1 norm for the $\\bbetahat$ estimates rather than the L2 norm. This means we penalize the sum of absolute values of the $\\hat{\\beta}$s, rather than the sum of their squares. \n",
        "\n",
        "\n",
        "$$\n",
        "\\begin{align*}\n",
        "\\mathcal{L}_\\text{Lasso}(\\bbetahat) &= \\frac{1}{2}\\left(\\by - \\bX\\bbetahat \\right)^\\top\n",
        "\\left(\\by - \\bX\\bbetahat \\right) + \\lambda \\sum_{d = 1}^D|\\beta_d|.\n",
        "\\end{align*}\n",
        "$$\n",
        "\n",
        "\n",
        "As usual, let's then calculate the gradient of the loss function with respect to $\\bbetahat$:\n",
        "\n",
        "\n",
        "$$\n",
        "\\dadb{\\mathcal{L}(\\bbetahat)}{\\bbetahat} = - \\bX^\\top\\left( \\by - \\bX \\bbetahat \\right) + \\lambda I'\\text{ sign}(\\bbetahat),\n",
        "$$\n",
        "\n",
        "\n",
        "where again we use $I'$ rather than $I$ since the magnitude of the intercept estimate $\\hat{\\beta}_0$ is not penalized. \n",
        "\n",
        "\n",
        "\n",
        "Unfortunately, we cannot find a closed-form solution for the $\\bbetahat$ that minimize the Lasso loss. Numerous methods exist for estimating the $\\bbetahat$, though using the gradient calculated above we could easily reach an estimate through `gradient descent`. The `construction` in the next section uses this approach. \n"
      ],
      "metadata": {
        "id": "qHT7hWUohQNR"
      }
    }
  ]
}